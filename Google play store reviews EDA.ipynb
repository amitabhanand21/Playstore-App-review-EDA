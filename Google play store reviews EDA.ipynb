{
 "cells": [
  {
   "cell_type": "markdown",
   "id": "22953cd3",
   "metadata": {},
   "source": [
    "# 1. Imports"
   ]
  },
  {
   "cell_type": "code",
   "execution_count": 1,
   "id": "72150323",
   "metadata": {},
   "outputs": [],
   "source": [
    "import pandas as pd\n",
    "import numpy as np\n",
    "from warnings import filterwarnings\n",
    "filterwarnings('ignore')"
   ]
  },
  {
   "cell_type": "markdown",
   "id": "13614d6e",
   "metadata": {},
   "source": [
    "# 2. Data"
   ]
  },
  {
   "cell_type": "code",
   "execution_count": 2,
   "id": "e5a34407",
   "metadata": {},
   "outputs": [],
   "source": [
    "apps=pd.read_csv('googleplaystore.csv')\n",
    "reviews=pd.read_csv('googleplaystore_user_reviews.csv')"
   ]
  },
  {
   "cell_type": "code",
   "execution_count": 3,
   "id": "c253e89a",
   "metadata": {},
   "outputs": [
    {
     "data": {
      "text/html": [
       "<div>\n",
       "<style scoped>\n",
       "    .dataframe tbody tr th:only-of-type {\n",
       "        vertical-align: middle;\n",
       "    }\n",
       "\n",
       "    .dataframe tbody tr th {\n",
       "        vertical-align: top;\n",
       "    }\n",
       "\n",
       "    .dataframe thead th {\n",
       "        text-align: right;\n",
       "    }\n",
       "</style>\n",
       "<table border=\"1\" class=\"dataframe\">\n",
       "  <thead>\n",
       "    <tr style=\"text-align: right;\">\n",
       "      <th></th>\n",
       "      <th>App</th>\n",
       "      <th>Category</th>\n",
       "      <th>Rating</th>\n",
       "      <th>Reviews</th>\n",
       "      <th>Size</th>\n",
       "      <th>Installs</th>\n",
       "      <th>Type</th>\n",
       "      <th>Price</th>\n",
       "      <th>Content Rating</th>\n",
       "      <th>Genres</th>\n",
       "      <th>Last Updated</th>\n",
       "      <th>Current Ver</th>\n",
       "      <th>Android Ver</th>\n",
       "    </tr>\n",
       "  </thead>\n",
       "  <tbody>\n",
       "    <tr>\n",
       "      <th>0</th>\n",
       "      <td>Photo Editor &amp; Candy Camera &amp; Grid &amp; ScrapBook</td>\n",
       "      <td>ART_AND_DESIGN</td>\n",
       "      <td>4.1</td>\n",
       "      <td>159</td>\n",
       "      <td>19M</td>\n",
       "      <td>10,000+</td>\n",
       "      <td>Free</td>\n",
       "      <td>0</td>\n",
       "      <td>Everyone</td>\n",
       "      <td>Art &amp; Design</td>\n",
       "      <td>January 7, 2018</td>\n",
       "      <td>1.0.0</td>\n",
       "      <td>4.0.3 and up</td>\n",
       "    </tr>\n",
       "    <tr>\n",
       "      <th>1</th>\n",
       "      <td>Coloring book moana</td>\n",
       "      <td>ART_AND_DESIGN</td>\n",
       "      <td>3.9</td>\n",
       "      <td>967</td>\n",
       "      <td>14M</td>\n",
       "      <td>500,000+</td>\n",
       "      <td>Free</td>\n",
       "      <td>0</td>\n",
       "      <td>Everyone</td>\n",
       "      <td>Art &amp; Design;Pretend Play</td>\n",
       "      <td>January 15, 2018</td>\n",
       "      <td>2.0.0</td>\n",
       "      <td>4.0.3 and up</td>\n",
       "    </tr>\n",
       "    <tr>\n",
       "      <th>2</th>\n",
       "      <td>U Launcher Lite – FREE Live Cool Themes, Hide ...</td>\n",
       "      <td>ART_AND_DESIGN</td>\n",
       "      <td>4.7</td>\n",
       "      <td>87510</td>\n",
       "      <td>8.7M</td>\n",
       "      <td>5,000,000+</td>\n",
       "      <td>Free</td>\n",
       "      <td>0</td>\n",
       "      <td>Everyone</td>\n",
       "      <td>Art &amp; Design</td>\n",
       "      <td>August 1, 2018</td>\n",
       "      <td>1.2.4</td>\n",
       "      <td>4.0.3 and up</td>\n",
       "    </tr>\n",
       "    <tr>\n",
       "      <th>3</th>\n",
       "      <td>Sketch - Draw &amp; Paint</td>\n",
       "      <td>ART_AND_DESIGN</td>\n",
       "      <td>4.5</td>\n",
       "      <td>215644</td>\n",
       "      <td>25M</td>\n",
       "      <td>50,000,000+</td>\n",
       "      <td>Free</td>\n",
       "      <td>0</td>\n",
       "      <td>Teen</td>\n",
       "      <td>Art &amp; Design</td>\n",
       "      <td>June 8, 2018</td>\n",
       "      <td>Varies with device</td>\n",
       "      <td>4.2 and up</td>\n",
       "    </tr>\n",
       "    <tr>\n",
       "      <th>4</th>\n",
       "      <td>Pixel Draw - Number Art Coloring Book</td>\n",
       "      <td>ART_AND_DESIGN</td>\n",
       "      <td>4.3</td>\n",
       "      <td>967</td>\n",
       "      <td>2.8M</td>\n",
       "      <td>100,000+</td>\n",
       "      <td>Free</td>\n",
       "      <td>0</td>\n",
       "      <td>Everyone</td>\n",
       "      <td>Art &amp; Design;Creativity</td>\n",
       "      <td>June 20, 2018</td>\n",
       "      <td>1.1</td>\n",
       "      <td>4.4 and up</td>\n",
       "    </tr>\n",
       "  </tbody>\n",
       "</table>\n",
       "</div>"
      ],
      "text/plain": [
       "                                                 App        Category  Rating  \\\n",
       "0     Photo Editor & Candy Camera & Grid & ScrapBook  ART_AND_DESIGN     4.1   \n",
       "1                                Coloring book moana  ART_AND_DESIGN     3.9   \n",
       "2  U Launcher Lite – FREE Live Cool Themes, Hide ...  ART_AND_DESIGN     4.7   \n",
       "3                              Sketch - Draw & Paint  ART_AND_DESIGN     4.5   \n",
       "4              Pixel Draw - Number Art Coloring Book  ART_AND_DESIGN     4.3   \n",
       "\n",
       "  Reviews  Size     Installs  Type Price Content Rating  \\\n",
       "0     159   19M      10,000+  Free     0       Everyone   \n",
       "1     967   14M     500,000+  Free     0       Everyone   \n",
       "2   87510  8.7M   5,000,000+  Free     0       Everyone   \n",
       "3  215644   25M  50,000,000+  Free     0           Teen   \n",
       "4     967  2.8M     100,000+  Free     0       Everyone   \n",
       "\n",
       "                      Genres      Last Updated         Current Ver  \\\n",
       "0               Art & Design   January 7, 2018               1.0.0   \n",
       "1  Art & Design;Pretend Play  January 15, 2018               2.0.0   \n",
       "2               Art & Design    August 1, 2018               1.2.4   \n",
       "3               Art & Design      June 8, 2018  Varies with device   \n",
       "4    Art & Design;Creativity     June 20, 2018                 1.1   \n",
       "\n",
       "    Android Ver  \n",
       "0  4.0.3 and up  \n",
       "1  4.0.3 and up  \n",
       "2  4.0.3 and up  \n",
       "3    4.2 and up  \n",
       "4    4.4 and up  "
      ]
     },
     "execution_count": 3,
     "metadata": {},
     "output_type": "execute_result"
    }
   ],
   "source": [
    "apps.head()"
   ]
  },
  {
   "cell_type": "code",
   "execution_count": 4,
   "id": "c5cdb4ac",
   "metadata": {},
   "outputs": [
    {
     "data": {
      "text/html": [
       "<div>\n",
       "<style scoped>\n",
       "    .dataframe tbody tr th:only-of-type {\n",
       "        vertical-align: middle;\n",
       "    }\n",
       "\n",
       "    .dataframe tbody tr th {\n",
       "        vertical-align: top;\n",
       "    }\n",
       "\n",
       "    .dataframe thead th {\n",
       "        text-align: right;\n",
       "    }\n",
       "</style>\n",
       "<table border=\"1\" class=\"dataframe\">\n",
       "  <thead>\n",
       "    <tr style=\"text-align: right;\">\n",
       "      <th></th>\n",
       "      <th>App</th>\n",
       "      <th>Translated_Review</th>\n",
       "      <th>Sentiment</th>\n",
       "      <th>Sentiment_Polarity</th>\n",
       "      <th>Sentiment_Subjectivity</th>\n",
       "    </tr>\n",
       "  </thead>\n",
       "  <tbody>\n",
       "    <tr>\n",
       "      <th>0</th>\n",
       "      <td>10 Best Foods for You</td>\n",
       "      <td>I like eat delicious food. That's I'm cooking ...</td>\n",
       "      <td>Positive</td>\n",
       "      <td>1.00</td>\n",
       "      <td>0.533333</td>\n",
       "    </tr>\n",
       "    <tr>\n",
       "      <th>1</th>\n",
       "      <td>10 Best Foods for You</td>\n",
       "      <td>This help eating healthy exercise regular basis</td>\n",
       "      <td>Positive</td>\n",
       "      <td>0.25</td>\n",
       "      <td>0.288462</td>\n",
       "    </tr>\n",
       "    <tr>\n",
       "      <th>2</th>\n",
       "      <td>10 Best Foods for You</td>\n",
       "      <td>NaN</td>\n",
       "      <td>NaN</td>\n",
       "      <td>NaN</td>\n",
       "      <td>NaN</td>\n",
       "    </tr>\n",
       "    <tr>\n",
       "      <th>3</th>\n",
       "      <td>10 Best Foods for You</td>\n",
       "      <td>Works great especially going grocery store</td>\n",
       "      <td>Positive</td>\n",
       "      <td>0.40</td>\n",
       "      <td>0.875000</td>\n",
       "    </tr>\n",
       "    <tr>\n",
       "      <th>4</th>\n",
       "      <td>10 Best Foods for You</td>\n",
       "      <td>Best idea us</td>\n",
       "      <td>Positive</td>\n",
       "      <td>1.00</td>\n",
       "      <td>0.300000</td>\n",
       "    </tr>\n",
       "  </tbody>\n",
       "</table>\n",
       "</div>"
      ],
      "text/plain": [
       "                     App                                  Translated_Review  \\\n",
       "0  10 Best Foods for You  I like eat delicious food. That's I'm cooking ...   \n",
       "1  10 Best Foods for You    This help eating healthy exercise regular basis   \n",
       "2  10 Best Foods for You                                                NaN   \n",
       "3  10 Best Foods for You         Works great especially going grocery store   \n",
       "4  10 Best Foods for You                                       Best idea us   \n",
       "\n",
       "  Sentiment  Sentiment_Polarity  Sentiment_Subjectivity  \n",
       "0  Positive                1.00                0.533333  \n",
       "1  Positive                0.25                0.288462  \n",
       "2       NaN                 NaN                     NaN  \n",
       "3  Positive                0.40                0.875000  \n",
       "4  Positive                1.00                0.300000  "
      ]
     },
     "execution_count": 4,
     "metadata": {},
     "output_type": "execute_result"
    }
   ],
   "source": [
    "reviews.head()"
   ]
  },
  {
   "cell_type": "markdown",
   "id": "cfbdd5c7",
   "metadata": {},
   "source": [
    "# 3. Basic information about apps"
   ]
  },
  {
   "cell_type": "code",
   "execution_count": 5,
   "id": "2c51a73e",
   "metadata": {},
   "outputs": [
    {
     "data": {
      "text/plain": [
       "(10841, 13)"
      ]
     },
     "execution_count": 5,
     "metadata": {},
     "output_type": "execute_result"
    }
   ],
   "source": [
    "apps.shape"
   ]
  },
  {
   "cell_type": "code",
   "execution_count": 6,
   "id": "893818ea",
   "metadata": {},
   "outputs": [
    {
     "data": {
      "text/plain": [
       "Index(['App', 'Category', 'Rating', 'Reviews', 'Size', 'Installs', 'Type',\n",
       "       'Price', 'Content Rating', 'Genres', 'Last Updated', 'Current Ver',\n",
       "       'Android Ver'],\n",
       "      dtype='object')"
      ]
     },
     "execution_count": 6,
     "metadata": {},
     "output_type": "execute_result"
    }
   ],
   "source": [
    "apps.columns"
   ]
  },
  {
   "cell_type": "code",
   "execution_count": 7,
   "id": "caf1c35a",
   "metadata": {},
   "outputs": [
    {
     "name": "stdout",
     "output_type": "stream",
     "text": [
      "<class 'pandas.core.frame.DataFrame'>\n",
      "RangeIndex: 10841 entries, 0 to 10840\n",
      "Data columns (total 13 columns):\n",
      " #   Column          Non-Null Count  Dtype  \n",
      "---  ------          --------------  -----  \n",
      " 0   App             10841 non-null  object \n",
      " 1   Category        10841 non-null  object \n",
      " 2   Rating          9367 non-null   float64\n",
      " 3   Reviews         10841 non-null  object \n",
      " 4   Size            10841 non-null  object \n",
      " 5   Installs        10841 non-null  object \n",
      " 6   Type            10840 non-null  object \n",
      " 7   Price           10841 non-null  object \n",
      " 8   Content Rating  10840 non-null  object \n",
      " 9   Genres          10841 non-null  object \n",
      " 10  Last Updated    10841 non-null  object \n",
      " 11  Current Ver     10833 non-null  object \n",
      " 12  Android Ver     10838 non-null  object \n",
      "dtypes: float64(1), object(12)\n",
      "memory usage: 1.1+ MB\n"
     ]
    }
   ],
   "source": [
    "apps.info()"
   ]
  },
  {
   "cell_type": "code",
   "execution_count": 8,
   "id": "7722df70",
   "metadata": {},
   "outputs": [
    {
     "data": {
      "text/plain": [
       "App                  0\n",
       "Category             0\n",
       "Rating            1474\n",
       "Reviews              0\n",
       "Size                 0\n",
       "Installs             0\n",
       "Type                 1\n",
       "Price                0\n",
       "Content Rating       1\n",
       "Genres               0\n",
       "Last Updated         0\n",
       "Current Ver          8\n",
       "Android Ver          3\n",
       "dtype: int64"
      ]
     },
     "execution_count": 8,
     "metadata": {},
     "output_type": "execute_result"
    }
   ],
   "source": [
    "apps.isnull().sum()"
   ]
  },
  {
   "cell_type": "markdown",
   "id": "691883fd",
   "metadata": {},
   "source": [
    "### Inferences so far..\n",
    "1. There are 10,841 rows and 13 columns. We should check for duplicate data as well.\n",
    "2. There are some missing values in the rating column. This might indicate that these apps are relatively new.\n",
    "3. Data types of many columns are not appropriate. We might need to change that in future."
   ]
  },
  {
   "cell_type": "code",
   "execution_count": 9,
   "id": "3d805ec9",
   "metadata": {},
   "outputs": [
    {
     "data": {
      "text/plain": [
       "483"
      ]
     },
     "execution_count": 9,
     "metadata": {},
     "output_type": "execute_result"
    }
   ],
   "source": [
    "apps.duplicated().sum()"
   ]
  },
  {
   "cell_type": "markdown",
   "id": "24409932",
   "metadata": {},
   "source": [
    "# 4. Data cleaning"
   ]
  },
  {
   "cell_type": "markdown",
   "id": "090d7e16",
   "metadata": {},
   "source": [
    "### 4.1 Let's drop duplicate rows"
   ]
  },
  {
   "cell_type": "code",
   "execution_count": 10,
   "id": "4e9f9b1f",
   "metadata": {},
   "outputs": [],
   "source": [
    "apps.drop_duplicates(inplace=True)"
   ]
  },
  {
   "cell_type": "code",
   "execution_count": 11,
   "id": "8e1f7586",
   "metadata": {},
   "outputs": [
    {
     "data": {
      "text/plain": [
       "(10358, 13)"
      ]
     },
     "execution_count": 11,
     "metadata": {},
     "output_type": "execute_result"
    }
   ],
   "source": [
    "apps.shape"
   ]
  },
  {
   "cell_type": "code",
   "execution_count": 12,
   "id": "8a2f047e",
   "metadata": {},
   "outputs": [
    {
     "data": {
      "text/plain": [
       "App               9660\n",
       "Category            34\n",
       "Rating              40\n",
       "Reviews           6002\n",
       "Size               462\n",
       "Installs            22\n",
       "Type                 3\n",
       "Price               93\n",
       "Content Rating       6\n",
       "Genres             120\n",
       "Last Updated      1378\n",
       "Current Ver       2832\n",
       "Android Ver         33\n",
       "dtype: int64"
      ]
     },
     "execution_count": 12,
     "metadata": {},
     "output_type": "execute_result"
    }
   ],
   "source": [
    "apps.nunique()"
   ]
  },
  {
   "cell_type": "markdown",
   "id": "dd96fc51",
   "metadata": {},
   "source": [
    "### 4.2 Let's change the datatypes to get a clear description of the data."
   ]
  },
  {
   "cell_type": "code",
   "execution_count": 13,
   "id": "d21fd5e2",
   "metadata": {},
   "outputs": [],
   "source": [
    "apps['Reviews']=apps['Reviews'].str.replace('M','')"
   ]
  },
  {
   "cell_type": "code",
   "execution_count": 14,
   "id": "822a822a",
   "metadata": {},
   "outputs": [
    {
     "name": "stdout",
     "output_type": "stream",
     "text": [
      "9592\n"
     ]
    }
   ],
   "source": [
    "print (sum(apps.Price.str.match('^$\\d+\\.?\\d*$'))\n",
    "       + sum(apps.Price == '0')\n",
    "      )"
   ]
  },
  {
   "cell_type": "code",
   "execution_count": 15,
   "id": "67c09406",
   "metadata": {},
   "outputs": [],
   "source": [
    "apps=apps.astype({'Reviews': float})"
   ]
  },
  {
   "cell_type": "code",
   "execution_count": 16,
   "id": "fed4b66b",
   "metadata": {},
   "outputs": [],
   "source": [
    "apps=apps.astype({'Reviews': int })"
   ]
  },
  {
   "cell_type": "code",
   "execution_count": 17,
   "id": "cdf0ebca",
   "metadata": {},
   "outputs": [
    {
     "data": {
      "text/plain": [
       "93"
      ]
     },
     "execution_count": 17,
     "metadata": {},
     "output_type": "execute_result"
    }
   ],
   "source": [
    "apps['Price'].nunique()"
   ]
  },
  {
   "cell_type": "code",
   "execution_count": 18,
   "id": "7b396eb0",
   "metadata": {},
   "outputs": [],
   "source": [
    "from copy import deepcopy\n",
    "# copy the desired column to a new variable\n",
    "#   and work on this new variable\n",
    "#   to avoid unnecessary errors for the main data frame.\n",
    "apps_price = deepcopy(apps.Price)\n",
    "# get the indexes of the rows that are \n",
    "#   not ready to be converted to float.\n",
    "index_price_dollar = (\n",
    "    apps.Price.str.match('^$\\d+\\.?\\d*$')\n",
    ")\n",
    "# do the conversion.\n",
    "apps_price[index_price_dollar] = (\n",
    "    apps_price[index_price_dollar].str[1:].astype(float)\n",
    ")\n",
    "# apply the change to the main data frame.\n",
    "apps.Price = apps_price\n",
    "# delete temporary variables\n",
    "del apps_price"
   ]
  },
  {
   "cell_type": "code",
   "execution_count": 19,
   "id": "04125e28",
   "metadata": {},
   "outputs": [
    {
     "data": {
      "text/plain": [
       "array(['0', '$4.99', '$3.99', '$6.99', '$1.49', '$2.99', '$7.99', '$5.99',\n",
       "       '$3.49', '$1.99', '$9.99', '$7.49', '$0.99', '$9.00', '$5.49',\n",
       "       '$10.00', '$24.99', '$11.99', '$79.99', '$16.99', '$14.99',\n",
       "       '$1.00', '$29.99', '$12.99', '$2.49', '$10.99', '$1.50', '$19.99',\n",
       "       '$15.99', '$33.99', '$74.99', '$39.99', '$3.95', '$4.49', '$1.70',\n",
       "       '$8.99', '$2.00', '$3.88', '$25.99', '$399.99', '$17.99',\n",
       "       '$400.00', '$3.02', '$1.76', '$4.84', '$4.77', '$1.61', '$2.50',\n",
       "       '$1.59', '$6.49', '$1.29', '$5.00', '$13.99', '$299.99', '$379.99',\n",
       "       '$37.99', '$18.99', '$389.99', '$19.90', '$8.49', '$1.75',\n",
       "       '$14.00', '$4.85', '$46.99', '$109.99', '$154.99', '$3.08',\n",
       "       '$2.59', '$4.80', '$1.96', '$19.40', '$3.90', '$4.59', '$15.46',\n",
       "       '$3.04', '$4.29', '$2.60', '$3.28', '$4.60', '$28.99', '$2.95',\n",
       "       '$2.90', '$1.97', '$200.00', '$89.99', '$2.56', '$30.99', '$3.61',\n",
       "       '$394.99', '$1.26', 'Everyone', '$1.20', '$1.04'], dtype=object)"
      ]
     },
     "execution_count": 19,
     "metadata": {},
     "output_type": "execute_result"
    }
   ],
   "source": [
    "apps['Price'].unique()"
   ]
  },
  {
   "cell_type": "code",
   "execution_count": 20,
   "id": "77bafced",
   "metadata": {},
   "outputs": [
    {
     "data": {
      "text/html": [
       "<div>\n",
       "<style scoped>\n",
       "    .dataframe tbody tr th:only-of-type {\n",
       "        vertical-align: middle;\n",
       "    }\n",
       "\n",
       "    .dataframe tbody tr th {\n",
       "        vertical-align: top;\n",
       "    }\n",
       "\n",
       "    .dataframe thead th {\n",
       "        text-align: right;\n",
       "    }\n",
       "</style>\n",
       "<table border=\"1\" class=\"dataframe\">\n",
       "  <thead>\n",
       "    <tr style=\"text-align: right;\">\n",
       "      <th></th>\n",
       "      <th>App</th>\n",
       "      <th>Category</th>\n",
       "      <th>Rating</th>\n",
       "      <th>Reviews</th>\n",
       "      <th>Size</th>\n",
       "      <th>Installs</th>\n",
       "      <th>Type</th>\n",
       "      <th>Price</th>\n",
       "      <th>Content Rating</th>\n",
       "      <th>Genres</th>\n",
       "      <th>Last Updated</th>\n",
       "      <th>Current Ver</th>\n",
       "      <th>Android Ver</th>\n",
       "    </tr>\n",
       "  </thead>\n",
       "  <tbody>\n",
       "    <tr>\n",
       "      <th>10472</th>\n",
       "      <td>Life Made WI-Fi Touchscreen Photo Frame</td>\n",
       "      <td>1.9</td>\n",
       "      <td>19.0</td>\n",
       "      <td>3</td>\n",
       "      <td>1,000+</td>\n",
       "      <td>Free</td>\n",
       "      <td>0</td>\n",
       "      <td>Everyone</td>\n",
       "      <td>NaN</td>\n",
       "      <td>February 11, 2018</td>\n",
       "      <td>1.0.19</td>\n",
       "      <td>4.0 and up</td>\n",
       "      <td>NaN</td>\n",
       "    </tr>\n",
       "  </tbody>\n",
       "</table>\n",
       "</div>"
      ],
      "text/plain": [
       "                                           App Category  Rating  Reviews  \\\n",
       "10472  Life Made WI-Fi Touchscreen Photo Frame      1.9    19.0        3   \n",
       "\n",
       "         Size Installs Type     Price Content Rating             Genres  \\\n",
       "10472  1,000+     Free    0  Everyone            NaN  February 11, 2018   \n",
       "\n",
       "      Last Updated Current Ver Android Ver  \n",
       "10472       1.0.19  4.0 and up         NaN  "
      ]
     },
     "execution_count": 20,
     "metadata": {},
     "output_type": "execute_result"
    }
   ],
   "source": [
    "apps[apps['Price']=='Everyone']"
   ]
  },
  {
   "cell_type": "code",
   "execution_count": 21,
   "id": "f6471ede",
   "metadata": {},
   "outputs": [],
   "source": [
    "apps.drop(labels=10472, inplace=True)\n",
    "apps['Price'] = apps['Price'].apply(lambda x: str(x).replace('$', '') if '$' in str(x) else str(x))\n",
    "apps['Price'] = apps['Price'].apply(lambda x: float(x))"
   ]
  },
  {
   "cell_type": "code",
   "execution_count": 22,
   "id": "b18f8333",
   "metadata": {},
   "outputs": [],
   "source": [
    "apps['Installs']=apps['Installs'].str.replace('+','')"
   ]
  },
  {
   "cell_type": "code",
   "execution_count": 23,
   "id": "e37fedbe",
   "metadata": {},
   "outputs": [],
   "source": [
    "apps['Installs']=apps['Installs'].str.replace(',','')"
   ]
  },
  {
   "cell_type": "code",
   "execution_count": 24,
   "id": "04ca57be",
   "metadata": {},
   "outputs": [],
   "source": [
    "apps['Installs']=apps['Installs'].str.replace('Free','0')"
   ]
  },
  {
   "cell_type": "code",
   "execution_count": 25,
   "id": "0953a627",
   "metadata": {},
   "outputs": [],
   "source": [
    "apps['Installs']=apps['Installs'].astype(int)"
   ]
  },
  {
   "cell_type": "code",
   "execution_count": 26,
   "id": "1922f6c3",
   "metadata": {},
   "outputs": [],
   "source": [
    "apps['Size']=apps['Size'].str.replace('1,000+','1000')"
   ]
  },
  {
   "cell_type": "code",
   "execution_count": 27,
   "id": "a850a7a1",
   "metadata": {},
   "outputs": [
    {
     "data": {
      "text/plain": [
       "10357"
      ]
     },
     "execution_count": 27,
     "metadata": {},
     "output_type": "execute_result"
    }
   ],
   "source": [
    "sum((apps['Size'].str.match('\\d+\\.?\\d*M').sum(),\n",
    "     apps['Size'].str.match('\\d+\\.?\\d*k').sum(),\n",
    "     apps['Size'].str.match('Varies with device').sum()))"
   ]
  },
  {
   "cell_type": "code",
   "execution_count": 28,
   "id": "f12b7c49",
   "metadata": {},
   "outputs": [],
   "source": [
    "# copy the desired column to a new variable\n",
    "#   and work on this new variable\n",
    "#   to avoid unnecessary errors for the main data frame.\n",
    "apps_size = deepcopy(apps['Size'])\n",
    "# get the indexes of rows for each type of size.\n",
    "index_size_M = apps_size.str.endswith('M')\n",
    "index_size_k = apps_size.str.endswith('k')\n",
    "index_size_unknown = apps_size.str.match('Varies with device')\n",
    "# replace the values of the copy.\n",
    "apps_size[index_size_M] = (\n",
    "    apps_size[index_size_M].apply(\n",
    "        lambda x: float(x[:-1])\n",
    "    )\n",
    ")\n",
    "apps_size[index_size_k] = (\n",
    "    apps_size[index_size_k].apply(\n",
    "        lambda x : float(x[:-1]) / 1024\n",
    "    )\n",
    ")\n",
    "apps_size[index_size_unknown] = np.nan\n",
    "# apply the replaced value to the main data frame.\n",
    "apps['Size'] = apps_size.astype(float)\n",
    "# make a new column to emphasize the apps with\n",
    "#   variable size.\n",
    "apps['Variable Size'] = (\n",
    "    apps['Size'].isna().astype(int)\n",
    ")\n",
    "# delete temporary variables.\n",
    "del apps_size\n",
    "del index_size_M, index_size_k, index_size_unknown"
   ]
  },
  {
   "cell_type": "code",
   "execution_count": 29,
   "id": "c2ad8451",
   "metadata": {},
   "outputs": [],
   "source": [
    "apps.drop(columns='Variable Size', axis=1, inplace=True)"
   ]
  },
  {
   "cell_type": "code",
   "execution_count": 30,
   "id": "e979ac51",
   "metadata": {},
   "outputs": [
    {
     "data": {
      "text/plain": [
       "App                object\n",
       "Category           object\n",
       "Rating            float64\n",
       "Reviews             int64\n",
       "Size              float64\n",
       "Installs            int64\n",
       "Type               object\n",
       "Price             float64\n",
       "Content Rating     object\n",
       "Genres             object\n",
       "Last Updated       object\n",
       "Current Ver        object\n",
       "Android Ver        object\n",
       "dtype: object"
      ]
     },
     "execution_count": 30,
     "metadata": {},
     "output_type": "execute_result"
    }
   ],
   "source": [
    "apps.dtypes"
   ]
  },
  {
   "cell_type": "markdown",
   "id": "874d357a",
   "metadata": {},
   "source": [
    "### 4.3 Now that our datatypes look good, we can move on to fill missing values."
   ]
  },
  {
   "cell_type": "code",
   "execution_count": 31,
   "id": "34e611d5",
   "metadata": {},
   "outputs": [
    {
     "data": {
      "text/plain": [
       "App                  0\n",
       "Category             0\n",
       "Rating            1465\n",
       "Reviews              0\n",
       "Size              1526\n",
       "Installs             0\n",
       "Type                 1\n",
       "Price                0\n",
       "Content Rating       0\n",
       "Genres               0\n",
       "Last Updated         0\n",
       "Current Ver          8\n",
       "Android Ver          2\n",
       "dtype: int64"
      ]
     },
     "execution_count": 31,
     "metadata": {},
     "output_type": "execute_result"
    }
   ],
   "source": [
    "apps.isnull().sum()"
   ]
  },
  {
   "cell_type": "code",
   "execution_count": 32,
   "id": "16da73df",
   "metadata": {},
   "outputs": [],
   "source": [
    "apps['Size'].fillna(apps['Size'].median(),inplace=True)\n",
    "apps['Rating'].fillna(apps['Rating'].median(),inplace=True)"
   ]
  },
  {
   "cell_type": "markdown",
   "id": "d904dc1b",
   "metadata": {},
   "source": [
    "### There are some more missing values, but those columns don't appear to be that important for now. "
   ]
  },
  {
   "cell_type": "code",
   "execution_count": 33,
   "id": "de9f12ca",
   "metadata": {},
   "outputs": [
    {
     "data": {
      "text/html": [
       "<div>\n",
       "<style scoped>\n",
       "    .dataframe tbody tr th:only-of-type {\n",
       "        vertical-align: middle;\n",
       "    }\n",
       "\n",
       "    .dataframe tbody tr th {\n",
       "        vertical-align: top;\n",
       "    }\n",
       "\n",
       "    .dataframe thead th {\n",
       "        text-align: right;\n",
       "    }\n",
       "</style>\n",
       "<table border=\"1\" class=\"dataframe\">\n",
       "  <thead>\n",
       "    <tr style=\"text-align: right;\">\n",
       "      <th></th>\n",
       "      <th>Rating</th>\n",
       "      <th>Reviews</th>\n",
       "      <th>Size</th>\n",
       "      <th>Installs</th>\n",
       "      <th>Price</th>\n",
       "    </tr>\n",
       "  </thead>\n",
       "  <tbody>\n",
       "    <tr>\n",
       "      <th>count</th>\n",
       "      <td>10357.00</td>\n",
       "      <td>10357.00</td>\n",
       "      <td>10357.00</td>\n",
       "      <td>1.035700e+04</td>\n",
       "      <td>10357.00</td>\n",
       "    </tr>\n",
       "    <tr>\n",
       "      <th>mean</th>\n",
       "      <td>4.20</td>\n",
       "      <td>405904.61</td>\n",
       "      <td>20.07</td>\n",
       "      <td>1.415776e+07</td>\n",
       "      <td>1.03</td>\n",
       "    </tr>\n",
       "    <tr>\n",
       "      <th>std</th>\n",
       "      <td>0.49</td>\n",
       "      <td>2696777.84</td>\n",
       "      <td>21.02</td>\n",
       "      <td>8.023955e+07</td>\n",
       "      <td>16.28</td>\n",
       "    </tr>\n",
       "    <tr>\n",
       "      <th>min</th>\n",
       "      <td>1.00</td>\n",
       "      <td>0.00</td>\n",
       "      <td>0.01</td>\n",
       "      <td>0.000000e+00</td>\n",
       "      <td>0.00</td>\n",
       "    </tr>\n",
       "    <tr>\n",
       "      <th>25%</th>\n",
       "      <td>4.10</td>\n",
       "      <td>32.00</td>\n",
       "      <td>5.70</td>\n",
       "      <td>1.000000e+03</td>\n",
       "      <td>0.00</td>\n",
       "    </tr>\n",
       "    <tr>\n",
       "      <th>50%</th>\n",
       "      <td>4.30</td>\n",
       "      <td>1680.00</td>\n",
       "      <td>13.00</td>\n",
       "      <td>1.000000e+05</td>\n",
       "      <td>0.00</td>\n",
       "    </tr>\n",
       "    <tr>\n",
       "      <th>75%</th>\n",
       "      <td>4.50</td>\n",
       "      <td>46416.00</td>\n",
       "      <td>26.00</td>\n",
       "      <td>1.000000e+06</td>\n",
       "      <td>0.00</td>\n",
       "    </tr>\n",
       "    <tr>\n",
       "      <th>max</th>\n",
       "      <td>5.00</td>\n",
       "      <td>78158306.00</td>\n",
       "      <td>100.00</td>\n",
       "      <td>1.000000e+09</td>\n",
       "      <td>400.00</td>\n",
       "    </tr>\n",
       "  </tbody>\n",
       "</table>\n",
       "</div>"
      ],
      "text/plain": [
       "         Rating      Reviews      Size      Installs     Price\n",
       "count  10357.00     10357.00  10357.00  1.035700e+04  10357.00\n",
       "mean       4.20    405904.61     20.07  1.415776e+07      1.03\n",
       "std        0.49   2696777.84     21.02  8.023955e+07     16.28\n",
       "min        1.00         0.00      0.01  0.000000e+00      0.00\n",
       "25%        4.10        32.00      5.70  1.000000e+03      0.00\n",
       "50%        4.30      1680.00     13.00  1.000000e+05      0.00\n",
       "75%        4.50     46416.00     26.00  1.000000e+06      0.00\n",
       "max        5.00  78158306.00    100.00  1.000000e+09    400.00"
      ]
     },
     "execution_count": 33,
     "metadata": {},
     "output_type": "execute_result"
    }
   ],
   "source": [
    "apps.describe().round(2)"
   ]
  },
  {
   "cell_type": "markdown",
   "id": "dd9e202a",
   "metadata": {},
   "source": [
    "# 5. EDA\n",
    "Let's check the columns and datatypes first, so that we don't miss anything."
   ]
  },
  {
   "cell_type": "code",
   "execution_count": 34,
   "id": "8be7cb2d",
   "metadata": {},
   "outputs": [
    {
     "data": {
      "text/plain": [
       "App                object\n",
       "Category           object\n",
       "Rating            float64\n",
       "Reviews             int64\n",
       "Size              float64\n",
       "Installs            int64\n",
       "Type               object\n",
       "Price             float64\n",
       "Content Rating     object\n",
       "Genres             object\n",
       "Last Updated       object\n",
       "Current Ver        object\n",
       "Android Ver        object\n",
       "dtype: object"
      ]
     },
     "execution_count": 34,
     "metadata": {},
     "output_type": "execute_result"
    }
   ],
   "source": [
    "apps.dtypes"
   ]
  },
  {
   "cell_type": "markdown",
   "id": "aab24fd0",
   "metadata": {},
   "source": [
    "### 5.1 Let's first groupby the data based on categorical columns to check for any pattern."
   ]
  },
  {
   "cell_type": "code",
   "execution_count": 35,
   "id": "f6285431",
   "metadata": {},
   "outputs": [
    {
     "data": {
      "text/plain": [
       "Category\n",
       "ART_AND_DESIGN           65\n",
       "AUTO_AND_VEHICLES        85\n",
       "BEAUTY                   53\n",
       "BOOKS_AND_REFERENCE     230\n",
       "BUSINESS                427\n",
       "COMICS                   60\n",
       "COMMUNICATION           366\n",
       "DATING                  196\n",
       "EDUCATION               130\n",
       "ENTERTAINMENT           111\n",
       "EVENTS                   64\n",
       "FAMILY                 1943\n",
       "FINANCE                 360\n",
       "FOOD_AND_DRINK          124\n",
       "GAME                   1121\n",
       "HEALTH_AND_FITNESS      306\n",
       "HOUSE_AND_HOME           80\n",
       "LIBRARIES_AND_DEMO       85\n",
       "LIFESTYLE               373\n",
       "MAPS_AND_NAVIGATION     137\n",
       "MEDICAL                 408\n",
       "NEWS_AND_MAGAZINES      264\n",
       "PARENTING                60\n",
       "PERSONALIZATION         388\n",
       "PHOTOGRAPHY             322\n",
       "PRODUCTIVITY            407\n",
       "SHOPPING                224\n",
       "SOCIAL                  280\n",
       "SPORTS                  351\n",
       "TOOLS                   843\n",
       "TRAVEL_AND_LOCAL        237\n",
       "VIDEO_PLAYERS           175\n",
       "WEATHER                  82\n",
       "Name: App, dtype: int64"
      ]
     },
     "execution_count": 35,
     "metadata": {},
     "output_type": "execute_result"
    }
   ],
   "source": [
    "apps.groupby(by='Category')['App'].count()"
   ]
  },
  {
   "cell_type": "code",
   "execution_count": 36,
   "id": "bbe1680d",
   "metadata": {},
   "outputs": [
    {
     "data": {
      "text/html": [
       "<div>\n",
       "<style scoped>\n",
       "    .dataframe tbody tr th:only-of-type {\n",
       "        vertical-align: middle;\n",
       "    }\n",
       "\n",
       "    .dataframe tbody tr th {\n",
       "        vertical-align: top;\n",
       "    }\n",
       "\n",
       "    .dataframe thead th {\n",
       "        text-align: right;\n",
       "    }\n",
       "</style>\n",
       "<table border=\"1\" class=\"dataframe\">\n",
       "  <thead>\n",
       "    <tr style=\"text-align: right;\">\n",
       "      <th></th>\n",
       "      <th>Rating</th>\n",
       "      <th>Reviews</th>\n",
       "      <th>Size</th>\n",
       "      <th>Installs</th>\n",
       "      <th>Price</th>\n",
       "    </tr>\n",
       "    <tr>\n",
       "      <th>Category</th>\n",
       "      <th></th>\n",
       "      <th></th>\n",
       "      <th></th>\n",
       "      <th></th>\n",
       "      <th></th>\n",
       "    </tr>\n",
       "  </thead>\n",
       "  <tbody>\n",
       "    <tr>\n",
       "      <th>ART_AND_DESIGN</th>\n",
       "      <td>4.36</td>\n",
       "      <td>26376.00</td>\n",
       "      <td>12.40</td>\n",
       "      <td>1912893.85</td>\n",
       "      <td>0.09</td>\n",
       "    </tr>\n",
       "    <tr>\n",
       "      <th>AUTO_AND_VEHICLES</th>\n",
       "      <td>4.21</td>\n",
       "      <td>13690.19</td>\n",
       "      <td>19.21</td>\n",
       "      <td>625061.31</td>\n",
       "      <td>0.16</td>\n",
       "    </tr>\n",
       "    <tr>\n",
       "      <th>BEAUTY</th>\n",
       "      <td>4.28</td>\n",
       "      <td>7476.23</td>\n",
       "      <td>13.71</td>\n",
       "      <td>513151.89</td>\n",
       "      <td>0.00</td>\n",
       "    </tr>\n",
       "    <tr>\n",
       "      <th>BOOKS_AND_REFERENCE</th>\n",
       "      <td>4.34</td>\n",
       "      <td>95100.99</td>\n",
       "      <td>13.16</td>\n",
       "      <td>8332476.42</td>\n",
       "      <td>0.52</td>\n",
       "    </tr>\n",
       "    <tr>\n",
       "      <th>BUSINESS</th>\n",
       "      <td>4.18</td>\n",
       "      <td>28941.85</td>\n",
       "      <td>13.81</td>\n",
       "      <td>2022634.34</td>\n",
       "      <td>0.41</td>\n",
       "    </tr>\n",
       "    <tr>\n",
       "      <th>COMICS</th>\n",
       "      <td>4.16</td>\n",
       "      <td>56387.93</td>\n",
       "      <td>13.41</td>\n",
       "      <td>934769.17</td>\n",
       "      <td>0.00</td>\n",
       "    </tr>\n",
       "    <tr>\n",
       "      <th>COMMUNICATION</th>\n",
       "      <td>4.18</td>\n",
       "      <td>1642823.91</td>\n",
       "      <td>12.05</td>\n",
       "      <td>65989825.82</td>\n",
       "      <td>0.23</td>\n",
       "    </tr>\n",
       "    <tr>\n",
       "      <th>DATING</th>\n",
       "      <td>4.03</td>\n",
       "      <td>28292.84</td>\n",
       "      <td>15.57</td>\n",
       "      <td>1053755.65</td>\n",
       "      <td>0.16</td>\n",
       "    </tr>\n",
       "    <tr>\n",
       "      <th>EDUCATION</th>\n",
       "      <td>4.38</td>\n",
       "      <td>178196.15</td>\n",
       "      <td>18.23</td>\n",
       "      <td>4107323.08</td>\n",
       "      <td>0.14</td>\n",
       "    </tr>\n",
       "    <tr>\n",
       "      <th>ENTERTAINMENT</th>\n",
       "      <td>4.14</td>\n",
       "      <td>428565.01</td>\n",
       "      <td>18.82</td>\n",
       "      <td>22123063.06</td>\n",
       "      <td>0.07</td>\n",
       "    </tr>\n",
       "    <tr>\n",
       "      <th>EVENTS</th>\n",
       "      <td>4.40</td>\n",
       "      <td>2515.91</td>\n",
       "      <td>13.86</td>\n",
       "      <td>249580.64</td>\n",
       "      <td>1.72</td>\n",
       "    </tr>\n",
       "    <tr>\n",
       "      <th>FAMILY</th>\n",
       "      <td>4.20</td>\n",
       "      <td>204205.85</td>\n",
       "      <td>26.88</td>\n",
       "      <td>5168138.19</td>\n",
       "      <td>1.25</td>\n",
       "    </tr>\n",
       "    <tr>\n",
       "      <th>FINANCE</th>\n",
       "      <td>4.15</td>\n",
       "      <td>47221.92</td>\n",
       "      <td>17.17</td>\n",
       "      <td>2139857.59</td>\n",
       "      <td>8.06</td>\n",
       "    </tr>\n",
       "    <tr>\n",
       "      <th>FOOD_AND_DRINK</th>\n",
       "      <td>4.18</td>\n",
       "      <td>61867.55</td>\n",
       "      <td>20.16</td>\n",
       "      <td>2079828.64</td>\n",
       "      <td>0.07</td>\n",
       "    </tr>\n",
       "    <tr>\n",
       "      <th>GAME</th>\n",
       "      <td>4.28</td>\n",
       "      <td>1262744.56</td>\n",
       "      <td>40.77</td>\n",
       "      <td>28139183.24</td>\n",
       "      <td>0.26</td>\n",
       "    </tr>\n",
       "    <tr>\n",
       "      <th>HEALTH_AND_FITNESS</th>\n",
       "      <td>4.27</td>\n",
       "      <td>100801.26</td>\n",
       "      <td>19.78</td>\n",
       "      <td>4447785.99</td>\n",
       "      <td>0.21</td>\n",
       "    </tr>\n",
       "    <tr>\n",
       "      <th>HOUSE_AND_HOME</th>\n",
       "      <td>4.19</td>\n",
       "      <td>34934.65</td>\n",
       "      <td>15.30</td>\n",
       "      <td>1565155.76</td>\n",
       "      <td>0.00</td>\n",
       "    </tr>\n",
       "    <tr>\n",
       "      <th>LIBRARIES_AND_DEMO</th>\n",
       "      <td>4.21</td>\n",
       "      <td>12201.39</td>\n",
       "      <td>11.15</td>\n",
       "      <td>741128.35</td>\n",
       "      <td>0.01</td>\n",
       "    </tr>\n",
       "    <tr>\n",
       "      <th>LIFESTYLE</th>\n",
       "      <td>4.13</td>\n",
       "      <td>34371.51</td>\n",
       "      <td>14.68</td>\n",
       "      <td>1433843.27</td>\n",
       "      <td>6.33</td>\n",
       "    </tr>\n",
       "    <tr>\n",
       "      <th>MAPS_AND_NAVIGATION</th>\n",
       "      <td>4.08</td>\n",
       "      <td>223790.18</td>\n",
       "      <td>15.85</td>\n",
       "      <td>5286729.12</td>\n",
       "      <td>0.20</td>\n",
       "    </tr>\n",
       "    <tr>\n",
       "      <th>MEDICAL</th>\n",
       "      <td>4.21</td>\n",
       "      <td>3423.42</td>\n",
       "      <td>18.95</td>\n",
       "      <td>103441.61</td>\n",
       "      <td>2.50</td>\n",
       "    </tr>\n",
       "    <tr>\n",
       "      <th>NEWS_AND_MAGAZINES</th>\n",
       "      <td>4.16</td>\n",
       "      <td>144870.73</td>\n",
       "      <td>12.72</td>\n",
       "      <td>20428855.15</td>\n",
       "      <td>0.02</td>\n",
       "    </tr>\n",
       "    <tr>\n",
       "      <th>PARENTING</th>\n",
       "      <td>4.30</td>\n",
       "      <td>15972.18</td>\n",
       "      <td>21.56</td>\n",
       "      <td>525351.83</td>\n",
       "      <td>0.16</td>\n",
       "    </tr>\n",
       "    <tr>\n",
       "      <th>PERSONALIZATION</th>\n",
       "      <td>4.33</td>\n",
       "      <td>193796.81</td>\n",
       "      <td>11.44</td>\n",
       "      <td>5346636.04</td>\n",
       "      <td>0.39</td>\n",
       "    </tr>\n",
       "    <tr>\n",
       "      <th>PHOTOGRAPHY</th>\n",
       "      <td>4.19</td>\n",
       "      <td>634464.01</td>\n",
       "      <td>15.89</td>\n",
       "      <td>30190210.11</td>\n",
       "      <td>0.38</td>\n",
       "    </tr>\n",
       "    <tr>\n",
       "      <th>PRODUCTIVITY</th>\n",
       "      <td>4.22</td>\n",
       "      <td>251976.65</td>\n",
       "      <td>12.91</td>\n",
       "      <td>30621846.12</td>\n",
       "      <td>0.62</td>\n",
       "    </tr>\n",
       "    <tr>\n",
       "      <th>SHOPPING</th>\n",
       "      <td>4.26</td>\n",
       "      <td>423799.83</td>\n",
       "      <td>15.34</td>\n",
       "      <td>11488164.22</td>\n",
       "      <td>0.02</td>\n",
       "    </tr>\n",
       "    <tr>\n",
       "      <th>SOCIAL</th>\n",
       "      <td>4.26</td>\n",
       "      <td>1905631.53</td>\n",
       "      <td>15.81</td>\n",
       "      <td>44692385.36</td>\n",
       "      <td>0.06</td>\n",
       "    </tr>\n",
       "    <tr>\n",
       "      <th>SPORTS</th>\n",
       "      <td>4.24</td>\n",
       "      <td>186104.58</td>\n",
       "      <td>22.43</td>\n",
       "      <td>4354913.10</td>\n",
       "      <td>0.28</td>\n",
       "    </tr>\n",
       "    <tr>\n",
       "      <th>TOOLS</th>\n",
       "      <td>4.08</td>\n",
       "      <td>324062.92</td>\n",
       "      <td>9.29</td>\n",
       "      <td>13585731.81</td>\n",
       "      <td>0.32</td>\n",
       "    </tr>\n",
       "    <tr>\n",
       "      <th>TRAVEL_AND_LOCAL</th>\n",
       "      <td>4.12</td>\n",
       "      <td>234452.15</td>\n",
       "      <td>21.70</td>\n",
       "      <td>26843405.68</td>\n",
       "      <td>0.21</td>\n",
       "    </tr>\n",
       "    <tr>\n",
       "      <th>VIDEO_PLAYERS</th>\n",
       "      <td>4.08</td>\n",
       "      <td>630743.93</td>\n",
       "      <td>15.31</td>\n",
       "      <td>35554301.26</td>\n",
       "      <td>0.06</td>\n",
       "    </tr>\n",
       "    <tr>\n",
       "      <th>WEATHER</th>\n",
       "      <td>4.25</td>\n",
       "      <td>178106.52</td>\n",
       "      <td>13.09</td>\n",
       "      <td>5196347.80</td>\n",
       "      <td>0.40</td>\n",
       "    </tr>\n",
       "  </tbody>\n",
       "</table>\n",
       "</div>"
      ],
      "text/plain": [
       "                     Rating     Reviews   Size     Installs  Price\n",
       "Category                                                          \n",
       "ART_AND_DESIGN         4.36    26376.00  12.40   1912893.85   0.09\n",
       "AUTO_AND_VEHICLES      4.21    13690.19  19.21    625061.31   0.16\n",
       "BEAUTY                 4.28     7476.23  13.71    513151.89   0.00\n",
       "BOOKS_AND_REFERENCE    4.34    95100.99  13.16   8332476.42   0.52\n",
       "BUSINESS               4.18    28941.85  13.81   2022634.34   0.41\n",
       "COMICS                 4.16    56387.93  13.41    934769.17   0.00\n",
       "COMMUNICATION          4.18  1642823.91  12.05  65989825.82   0.23\n",
       "DATING                 4.03    28292.84  15.57   1053755.65   0.16\n",
       "EDUCATION              4.38   178196.15  18.23   4107323.08   0.14\n",
       "ENTERTAINMENT          4.14   428565.01  18.82  22123063.06   0.07\n",
       "EVENTS                 4.40     2515.91  13.86    249580.64   1.72\n",
       "FAMILY                 4.20   204205.85  26.88   5168138.19   1.25\n",
       "FINANCE                4.15    47221.92  17.17   2139857.59   8.06\n",
       "FOOD_AND_DRINK         4.18    61867.55  20.16   2079828.64   0.07\n",
       "GAME                   4.28  1262744.56  40.77  28139183.24   0.26\n",
       "HEALTH_AND_FITNESS     4.27   100801.26  19.78   4447785.99   0.21\n",
       "HOUSE_AND_HOME         4.19    34934.65  15.30   1565155.76   0.00\n",
       "LIBRARIES_AND_DEMO     4.21    12201.39  11.15    741128.35   0.01\n",
       "LIFESTYLE              4.13    34371.51  14.68   1433843.27   6.33\n",
       "MAPS_AND_NAVIGATION    4.08   223790.18  15.85   5286729.12   0.20\n",
       "MEDICAL                4.21     3423.42  18.95    103441.61   2.50\n",
       "NEWS_AND_MAGAZINES     4.16   144870.73  12.72  20428855.15   0.02\n",
       "PARENTING              4.30    15972.18  21.56    525351.83   0.16\n",
       "PERSONALIZATION        4.33   193796.81  11.44   5346636.04   0.39\n",
       "PHOTOGRAPHY            4.19   634464.01  15.89  30190210.11   0.38\n",
       "PRODUCTIVITY           4.22   251976.65  12.91  30621846.12   0.62\n",
       "SHOPPING               4.26   423799.83  15.34  11488164.22   0.02\n",
       "SOCIAL                 4.26  1905631.53  15.81  44692385.36   0.06\n",
       "SPORTS                 4.24   186104.58  22.43   4354913.10   0.28\n",
       "TOOLS                  4.08   324062.92   9.29  13585731.81   0.32\n",
       "TRAVEL_AND_LOCAL       4.12   234452.15  21.70  26843405.68   0.21\n",
       "VIDEO_PLAYERS          4.08   630743.93  15.31  35554301.26   0.06\n",
       "WEATHER                4.25   178106.52  13.09   5196347.80   0.40"
      ]
     },
     "execution_count": 36,
     "metadata": {},
     "output_type": "execute_result"
    }
   ],
   "source": [
    "apps.groupby(by='Category').mean().round(2)"
   ]
  },
  {
   "cell_type": "code",
   "execution_count": 37,
   "id": "6a29969c",
   "metadata": {},
   "outputs": [
    {
     "data": {
      "text/plain": [
       "Type\n",
       "Free    9591\n",
       "Paid     765\n",
       "Name: App, dtype: int64"
      ]
     },
     "execution_count": 37,
     "metadata": {},
     "output_type": "execute_result"
    }
   ],
   "source": [
    "apps.groupby(by='Type')['App'].count()"
   ]
  },
  {
   "cell_type": "code",
   "execution_count": 38,
   "id": "2ae17eb5",
   "metadata": {},
   "outputs": [],
   "source": [
    "### Last three columns appear not to be that important. Let's remove them.\n",
    "apps.drop(columns=['Last Updated', 'Current Ver', 'Android Ver'], inplace=True)"
   ]
  },
  {
   "cell_type": "code",
   "execution_count": 40,
   "id": "bf6cdae4",
   "metadata": {},
   "outputs": [
    {
     "data": {
      "text/html": [
       "<div>\n",
       "<style scoped>\n",
       "    .dataframe tbody tr th:only-of-type {\n",
       "        vertical-align: middle;\n",
       "    }\n",
       "\n",
       "    .dataframe tbody tr th {\n",
       "        vertical-align: top;\n",
       "    }\n",
       "\n",
       "    .dataframe thead th {\n",
       "        text-align: right;\n",
       "    }\n",
       "</style>\n",
       "<table border=\"1\" class=\"dataframe\">\n",
       "  <thead>\n",
       "    <tr style=\"text-align: right;\">\n",
       "      <th></th>\n",
       "      <th>App</th>\n",
       "      <th>Category</th>\n",
       "      <th>Rating</th>\n",
       "      <th>Reviews</th>\n",
       "      <th>Size</th>\n",
       "      <th>Installs</th>\n",
       "      <th>Type</th>\n",
       "      <th>Price</th>\n",
       "      <th>Content Rating</th>\n",
       "      <th>Genres</th>\n",
       "    </tr>\n",
       "  </thead>\n",
       "  <tbody>\n",
       "    <tr>\n",
       "      <th>0</th>\n",
       "      <td>Photo Editor &amp; Candy Camera &amp; Grid &amp; ScrapBook</td>\n",
       "      <td>ART_AND_DESIGN</td>\n",
       "      <td>4.1</td>\n",
       "      <td>159</td>\n",
       "      <td>19.0</td>\n",
       "      <td>10000</td>\n",
       "      <td>Free</td>\n",
       "      <td>0.0</td>\n",
       "      <td>Everyone</td>\n",
       "      <td>Art &amp; Design</td>\n",
       "    </tr>\n",
       "    <tr>\n",
       "      <th>1</th>\n",
       "      <td>Coloring book moana</td>\n",
       "      <td>ART_AND_DESIGN</td>\n",
       "      <td>3.9</td>\n",
       "      <td>967</td>\n",
       "      <td>14.0</td>\n",
       "      <td>500000</td>\n",
       "      <td>Free</td>\n",
       "      <td>0.0</td>\n",
       "      <td>Everyone</td>\n",
       "      <td>Art &amp; Design;Pretend Play</td>\n",
       "    </tr>\n",
       "  </tbody>\n",
       "</table>\n",
       "</div>"
      ],
      "text/plain": [
       "                                              App        Category  Rating  \\\n",
       "0  Photo Editor & Candy Camera & Grid & ScrapBook  ART_AND_DESIGN     4.1   \n",
       "1                             Coloring book moana  ART_AND_DESIGN     3.9   \n",
       "\n",
       "   Reviews  Size  Installs  Type  Price Content Rating  \\\n",
       "0      159  19.0     10000  Free    0.0       Everyone   \n",
       "1      967  14.0    500000  Free    0.0       Everyone   \n",
       "\n",
       "                      Genres  \n",
       "0               Art & Design  \n",
       "1  Art & Design;Pretend Play  "
      ]
     },
     "execution_count": 40,
     "metadata": {},
     "output_type": "execute_result"
    }
   ],
   "source": [
    "apps.head(2)"
   ]
  },
  {
   "cell_type": "code",
   "execution_count": null,
   "id": "e426e399",
   "metadata": {},
   "outputs": [],
   "source": []
  }
 ],
 "metadata": {
  "kernelspec": {
   "display_name": "Python 3 (ipykernel)",
   "language": "python",
   "name": "python3"
  },
  "language_info": {
   "codemirror_mode": {
    "name": "ipython",
    "version": 3
   },
   "file_extension": ".py",
   "mimetype": "text/x-python",
   "name": "python",
   "nbconvert_exporter": "python",
   "pygments_lexer": "ipython3",
   "version": "3.10.7"
  }
 },
 "nbformat": 4,
 "nbformat_minor": 5
}
